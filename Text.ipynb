{
 "cells": [
  {
   "cell_type": "code",
   "execution_count": 18,
   "metadata": {},
   "outputs": [],
   "source": [
    "# Import Dependencies f"
   ]
  },
  {
   "cell_type": "code",
   "execution_count": 3,
   "metadata": {},
   "outputs": [
    {
     "name": "stderr",
     "output_type": "stream",
     "text": [
      "WARNING:matplotlib.font_manager:Matplotlib is building the font cache; this may take a moment.\n"
     ]
    }
   ],
   "source": [
    "import logging\n",
    "import shutil \n",
    "import pandas as pd\n",
    "from sklearn.model_selection import train_test_split\n",
    "from ludwig.api import LudwigModel\n",
    "from ludwig.visualize import learning_curves"
   ]
  },
  {
   "cell_type": "code",
   "execution_count": 4,
   "metadata": {},
   "outputs": [
    {
     "data": {
      "text/plain": [
       "False"
      ]
     },
     "execution_count": 4,
     "metadata": {},
     "output_type": "execute_result"
    }
   ],
   "source": [
    "import tensorflow as tf\n",
    "tf.test.is_built_with_cuda()"
   ]
  },
  {
   "cell_type": "code",
   "execution_count": 5,
   "metadata": {},
   "outputs": [
    {
     "data": {
      "text/plain": [
       "[name: \"/device:CPU:0\"\n",
       " device_type: \"CPU\"\n",
       " memory_limit: 268435456\n",
       " locality {\n",
       " }\n",
       " incarnation: 13463919733390256246]"
      ]
     },
     "execution_count": 5,
     "metadata": {},
     "output_type": "execute_result"
    }
   ],
   "source": [
    "from tensorflow.python.client import device_lib\n",
    "device_lib.list_local_devices()"
   ]
  },
  {
   "cell_type": "markdown",
   "metadata": {},
   "source": [
    "# Load Social Network data"
   ]
  },
  {
   "cell_type": "code",
   "execution_count": 7,
   "metadata": {},
   "outputs": [
    {
     "data": {
      "text/plain": [
       "(59946, 31)"
      ]
     },
     "execution_count": 7,
     "metadata": {},
     "output_type": "execute_result"
    }
   ],
   "source": [
    "raw_df = pd.read_csv('okcupid_profiles.csv')\n",
    "raw_df.shape"
   ]
  },
  {
   "cell_type": "code",
   "execution_count": 8,
   "metadata": {},
   "outputs": [
    {
     "data": {
      "text/plain": [
       "age              int64\n",
       "status          object\n",
       "sex             object\n",
       "orientation     object\n",
       "body_type       object\n",
       "diet            object\n",
       "drinks          object\n",
       "drugs           object\n",
       "education       object\n",
       "ethnicity       object\n",
       "height         float64\n",
       "income           int64\n",
       "job             object\n",
       "last_online     object\n",
       "location        object\n",
       "offspring       object\n",
       "pets            object\n",
       "religion        object\n",
       "sign            object\n",
       "smokes          object\n",
       "speaks          object\n",
       "essay0          object\n",
       "essay1          object\n",
       "essay2          object\n",
       "essay3          object\n",
       "essay4          object\n",
       "essay5          object\n",
       "essay6          object\n",
       "essay7          object\n",
       "essay8          object\n",
       "essay9          object\n",
       "dtype: object"
      ]
     },
     "execution_count": 8,
     "metadata": {},
     "output_type": "execute_result"
    }
   ],
   "source": [
    "raw_df.dtypes"
   ]
  },
  {
   "cell_type": "code",
   "execution_count": 9,
   "metadata": {
    "scrolled": true
   },
   "outputs": [
    {
     "name": "stdout",
     "output_type": "stream",
     "text": [
      "(41962, 31) (17984, 31)\n"
     ]
    }
   ],
   "source": [
    "train_df, vald_df = train_test_split(raw_df, test_size = 0.3, random_state=13)\n",
    "print(train_df.shape, vald_df.shape)"
   ]
  },
  {
   "cell_type": "code",
   "execution_count": 10,
   "metadata": {},
   "outputs": [
    {
     "data": {
      "text/html": [
       "<div>\n",
       "<style scoped>\n",
       "    .dataframe tbody tr th:only-of-type {\n",
       "        vertical-align: middle;\n",
       "    }\n",
       "\n",
       "    .dataframe tbody tr th {\n",
       "        vertical-align: top;\n",
       "    }\n",
       "\n",
       "    .dataframe thead th {\n",
       "        text-align: right;\n",
       "    }\n",
       "</style>\n",
       "<table border=\"1\" class=\"dataframe\">\n",
       "  <thead>\n",
       "    <tr style=\"text-align: right;\">\n",
       "      <th></th>\n",
       "      <th>count</th>\n",
       "      <th>mean</th>\n",
       "      <th>std</th>\n",
       "      <th>min</th>\n",
       "      <th>25%</th>\n",
       "      <th>50%</th>\n",
       "      <th>75%</th>\n",
       "      <th>max</th>\n",
       "    </tr>\n",
       "  </thead>\n",
       "  <tbody>\n",
       "    <tr>\n",
       "      <th>age</th>\n",
       "      <td>41962.0</td>\n",
       "      <td>32.391140</td>\n",
       "      <td>9.470542</td>\n",
       "      <td>18.0</td>\n",
       "      <td>26.0</td>\n",
       "      <td>30.0</td>\n",
       "      <td>37.0</td>\n",
       "      <td>109.0</td>\n",
       "    </tr>\n",
       "    <tr>\n",
       "      <th>height</th>\n",
       "      <td>41959.0</td>\n",
       "      <td>68.292381</td>\n",
       "      <td>3.983787</td>\n",
       "      <td>1.0</td>\n",
       "      <td>66.0</td>\n",
       "      <td>68.0</td>\n",
       "      <td>71.0</td>\n",
       "      <td>95.0</td>\n",
       "    </tr>\n",
       "    <tr>\n",
       "      <th>income</th>\n",
       "      <td>41962.0</td>\n",
       "      <td>20162.673919</td>\n",
       "      <td>97959.429239</td>\n",
       "      <td>-1.0</td>\n",
       "      <td>-1.0</td>\n",
       "      <td>-1.0</td>\n",
       "      <td>-1.0</td>\n",
       "      <td>1000000.0</td>\n",
       "    </tr>\n",
       "  </tbody>\n",
       "</table>\n",
       "</div>"
      ],
      "text/plain": [
       "          count          mean           std   min   25%   50%   75%        max\n",
       "age     41962.0     32.391140      9.470542  18.0  26.0  30.0  37.0      109.0\n",
       "height  41959.0     68.292381      3.983787   1.0  66.0  68.0  71.0       95.0\n",
       "income  41962.0  20162.673919  97959.429239  -1.0  -1.0  -1.0  -1.0  1000000.0"
      ]
     },
     "execution_count": 10,
     "metadata": {},
     "output_type": "execute_result"
    }
   ],
   "source": [
    "train_df.describe().T"
   ]
  },
  {
   "cell_type": "code",
   "execution_count": 11,
   "metadata": {},
   "outputs": [
    {
     "data": {
      "text/plain": [
       "1       i am a chef: this is what that means. 1. i am ...\n",
       "2       i'm not ashamed of much, but writing public te...\n",
       "3               i work in a library and go to school. . .\n",
       "4       hey how's it going? currently vague on the pro...\n",
       "5       i'm an australian living in san francisco, but...\n",
       "                              ...                        \n",
       "9995    hi my name is chantea and i am 23, i am a hair...\n",
       "9996    i came to the states when i was 17, and i fini...\n",
       "9997    heey :) i am 19 and bi sexual . i have a lovin...\n",
       "9998    after giving this much thought i have finally ...\n",
       "9999    loving life here in disco san francisco and ha...\n",
       "Name: essay0, Length: 9999, dtype: object"
      ]
     },
     "execution_count": 11,
     "metadata": {},
     "output_type": "execute_result"
    }
   ],
   "source": [
    "essay0=raw_df.essay0\n",
    "essay0 = essay0.str.replace('<[^<]+?>', '') \n",
    "essay0= essay0.str.replace('\\n', '') \n",
    "essay0[1:10000].to_csv('essay0.csv')\n",
    "essay0[1:10000]"
   ]
  },
  {
   "cell_type": "markdown",
   "metadata": {},
   "source": [
    "# Model Training with Ludwig"
   ]
  },
  {
   "cell_type": "code",
   "execution_count": 15,
   "metadata": {
    "tags": []
   },
   "outputs": [],
   "source": [
    "model_definition = {'input_features':[{'name': 'essay0',\n",
    "                                       'type': 'text', \n",
    "                                       'level': 'word',\n",
    "                                       'encoder': 'rnn',\n",
    "                                       'cell_type': 'lstm',\n",
    "                                       'preprocessing': {'lowercase': True,\n",
    "                                                         'missing_value_strategy': 'fill_with_const',\n",
    "                                                         'padding': 'right',\n",
    "                                                         'padding_symbol': '<PAD>',\n",
    "                                                         'unknown_symbol': '<UNK>',\n",
    "                                                         'word_most_common': 500,\n",
    "                                                         'word_sequence_length_limit': 256,\n",
    "                                                         'word_tokenizer': 'space_punct',\n",
    "                                                         'word_vocab_file': None}}], \n",
    "                    'output_features': [ {'name': 'wantskids', 'type': 'binary'},\n",
    "                                       {'name': 'short', 'type': 'binary'},\n",
    "                                        {'name': 'dog_person', 'type': 'binary'},\n",
    "                                        {'name': 'vegetarian', 'type': 'binary'},\n",
    "                                        {'name': 'gay', 'type': 'binary'},\n",
    "                                       {'name': 'body_thin', 'type': 'binary'}], \n",
    "                    'training':{'epoch':20}}\n"
   ]
  },
  {
   "cell_type": "code",
   "execution_count": null,
   "metadata": {},
   "outputs": [],
   "source": [
    "model = LudwigModel(model_definition= model_definition )"
   ]
  },
  {
   "cell_type": "code",
   "execution_count": null,
   "metadata": {},
   "outputs": [],
   "source": [
    "train_stats = model.train(data_train_df=train_df, \n",
    "                          data_validation_df = vald_df, \n",
    "                          gpus= 0, gpu_fraction= 10.0)"
   ]
  },
  {
   "cell_type": "markdown",
   "metadata": {},
   "source": [
    "# Training Loop Visualization"
   ]
  },
  {
   "cell_type": "code",
   "execution_count": 66,
   "metadata": {},
   "outputs": [
    {
     "data": {
      "image/png": "[encoded data removed]",
      "text/plain": [
       "<Figure size 432x288 with 1 Axes>"
      ]
     },
     "metadata": {},
     "output_type": "display_data"
    },
    {
     "data": {
      "image/png": "[encoded data removed]",
      "text/plain": [
       "<Figure size 432x288 with 1 Axes>"
      ]
     },
     "metadata": {},
     "output_type": "display_data"
    }
   ],
   "source": [
    "learning_curves(train_stats, 'gay',\n",
    "                output_directory='./visualizations',\n",
    "                file_format='png')"
   ]
  }
 ],
 "metadata": {
  "kernelspec": {
   "display_name": "Python 3",
   "language": "python",
   "name": "python3"
  },
  "language_info": {
   "codemirror_mode": {
    "name": "ipython",
    "version": 3
   },
   "file_extension": ".py",
   "mimetype": "text/x-python",
   "name": "python",
   "nbconvert_exporter": "python",
   "pygments_lexer": "ipython3",
   "version": "3.7.9"
  }
 },
 "nbformat": 4,
 "nbformat_minor": 4
}
